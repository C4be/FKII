{
  "nbformat": 4,
  "nbformat_minor": 0,
  "metadata": {
    "colab": {
      "provenance": [],
      "toc_visible": true
    },
    "kernelspec": {
      "name": "python3",
      "display_name": "Python 3"
    },
    "language_info": {
      "name": "python"
    }
  },
  "cells": [
    {
      "cell_type": "markdown",
      "source": [
        "# Лабораторная работа №2 - Global optimization and metaheuristic algortihms\n",
        "\n",
        "> **Исполнил:** Гимазетдинов Дмитрий, М8О-109СВ-24;\n",
        "\n",
        "> **Тип:** Хвост 1 семестр."
      ],
      "metadata": {
        "id": "U2Jw_PI7_n9Y"
      }
    },
    {
      "cell_type": "markdown",
      "source": [
        "# **Отчёт по результатам глобальной оптимизации с использованием Pygmo**  \n",
        "\n",
        "## **1. Введение**  \n",
        "В данной работе проведена глобальная оптимизация двух тестовых функций (**функции Бута и Матьяса**) с помощью трёх различных алгоритмов из библиотеки **Pygmo**:  \n",
        "- **GA** (*Genetic Algorithm, Генетический алгоритм*)  \n",
        "- **PSO** (*Particle Swarm Optimization, Оптимизация роя частиц*)  \n",
        "- **CMA-ES** (*Covariance Matrix Adaptation Evolution Strategy, Эволюционная стратегия адаптации ковариационной матрицы*)  \n",
        "\n",
        "Целью эксперимента было нахождение глобального минимума для каждой функции и сравнение эффективности различных алгоритмов.  \n",
        "\n",
        "## **2. Постановка задачи**  \n",
        "Исследуемые функции:  \n",
        "\n",
        "1. **Функция Бута**  \n",
        "   $$\n",
        "   f(x, y) = (x + 2y - 7)^2 + (2x + y - 5)^2\n",
        "   $$\n",
        "   Глобальный минимум: $$ f(1, 3) = 0 $$  \n",
        "   \n",
        "2. **Функция Матьяса**  \n",
        "   $$\n",
        "   f(x, y) = 0.26(x^2 + y^2) - 0.48xy\n",
        "   $$\n",
        "   Глобальный минимум: $$ f(0,0) = 0 $$  \n",
        "\n",
        "Каждая функция была оптимизирована с использованием трёх алгоритмов. Число поколений для GA и PSO было установлено в 100, а для CMA-ES использовались стандартные параметры.\n",
        "\n",
        "## **3. Результаты оптимизации**  \n",
        "\n",
        "| Function | Algorithm | Best Solution (x, y) | Best Value |\n",
        "|----------|-----------|----------------------|------------|\n",
        "| Booth    | GA        | (0.99998, 3.00006)   | 1.25e-08   |\n",
        "| Booth    | PSO       | (1.00011, 2.99987)   | 2.97e-08   |\n",
        "| Booth    | CMA-ES    | (0.95601, 2.91350)   | 7.75e-02   |\n",
        "| Matyas   | GA        | (-0.00015, -0.00003) | 3.91e-09   |\n",
        "| Matyas   | PSO       | (0.0000087, 0.000045) | 3.71e-10   |\n",
        "| Matyas   | CMA-ES    | (-0.21688, -1.08754) | 2.06e-01   |\n",
        "\n",
        "## **4. Анализ полученных результатов**  \n",
        "\n",
        "### **4.1 Функция Бута**  \n",
        "- **GA и PSO** показали отличные результаты, практически найдя аналитический минимум $$(1,3)$$, с ошибкой порядка $$10^{-8}$$.  \n",
        "- **CMA-ES** немного хуже справился с задачей, найдя минимум с большей ошибкой ($$ f(x, y) \\approx 0.0775 $$).  \n",
        "\n",
        "### **4.2 Функция Матьяса**  \n",
        "- **PSO** и **GA** снова показали наилучшие результаты, найдя решения с ошибкой $$10^{-9} - 10^{-10}$$.  \n",
        "- **CMA-ES** нашёл точку $$(-0.21688, -1.08754)$$, что привело к значительной ошибке в $$0.2065$$.  \n",
        "\n",
        "### **5. Выводы и рекомендации**  \n",
        "\n",
        "1. **PSO (роевой интеллект) и GA (генетический алгоритм)** продемонстрировали стабильные результаты и практически совпали с аналитическими минимумами для обеих функций.  \n",
        "2. **CMA-ES (эволюционная стратегия)** оказалась менее точной в данном эксперименте, особенно для функции Матьяса.  \n",
        "3. **Рекомендуемый алгоритм для оптимизации гладких функций** – **PSO**, так как он показал лучшие результаты в обоих тестах.  \n",
        "4. **CMA-ES может быть более эффективным** на более сложных многомерных задачах, где важна адаптация ковариационной матрицы.  \n",
        "\n",
        "## **6. Возможные улучшения**  \n",
        "- Провести больше запусков и усреднить результаты для получения более объективной оценки.  \n",
        "- Добавить дополнительные функции тестирования (например, Розенброка, Растригина).  \n",
        "- Использовать другие алгоритмы из Pygmo, такие как **Simulated Annealing** (имитация отжига) или **NSGA-II** (мультиобъективная оптимизация).  \n",
        "\n",
        "*Вывод*: **PSO и GA – лучшие алгоритмы для оптимизации этих функций. CMA-ES требует настройки параметров для улучшения точности.**"
      ],
      "metadata": {
        "id": "il7UfGfhZUSk"
      }
    },
    {
      "cell_type": "markdown",
      "source": [
        "# Задание:\n",
        "\n",
        "В Pygmo запрогроммировать две тестовых функции и найти их оптимум 3 разными алгоритмами доступными в библиотеке, а так же получить таблицу сравнения."
      ],
      "metadata": {
        "id": "63NzoPjDYx44"
      }
    },
    {
      "cell_type": "markdown",
      "source": [
        "## Загрузка и импорт"
      ],
      "metadata": {
        "id": "fFOKYCY9ABcc"
      }
    },
    {
      "cell_type": "code",
      "execution_count": 1,
      "metadata": {
        "id": "7E8OYQheWROl",
        "colab": {
          "base_uri": "https://localhost:8080/"
        },
        "outputId": "f530278c-7bea-4c0a-8dcb-105ac8ba40a0"
      },
      "outputs": [
        {
          "output_type": "stream",
          "name": "stdout",
          "text": [
            "Collecting pygmo\n",
            "  Downloading pygmo-2.19.5-cp311-cp311-manylinux_2_28_x86_64.whl.metadata (978 bytes)\n",
            "Requirement already satisfied: numpy in /usr/local/lib/python3.11/dist-packages (from pygmo) (1.26.4)\n",
            "Requirement already satisfied: cloudpickle in /usr/local/lib/python3.11/dist-packages (from pygmo) (3.1.1)\n",
            "Requirement already satisfied: scipy in /usr/local/lib/python3.11/dist-packages (from pygmo) (1.13.1)\n",
            "Downloading pygmo-2.19.5-cp311-cp311-manylinux_2_28_x86_64.whl (14.7 MB)\n",
            "\u001b[2K   \u001b[90m━━━━━━━━━━━━━━━━━━━━━━━━━━━━━━━━━━━━━━━━\u001b[0m \u001b[32m14.7/14.7 MB\u001b[0m \u001b[31m9.2 MB/s\u001b[0m eta \u001b[36m0:00:00\u001b[0m\n",
            "\u001b[?25hInstalling collected packages: pygmo\n",
            "Successfully installed pygmo-2.19.5\n"
          ]
        }
      ],
      "source": [
        "%pip install pygmo\n",
        "import pygmo as pg\n",
        "import numpy as np\n",
        "import pandas as pd"
      ]
    },
    {
      "cell_type": "markdown",
      "source": [
        "## Тестовые функции из первой лабораторной работы"
      ],
      "metadata": {
        "id": "TIbl-D5BAFzj"
      }
    },
    {
      "cell_type": "code",
      "source": [
        "class BoothFunction:\n",
        "    def fitness(self, x):\n",
        "        return [(x[0] + 2 * x[1] - 7)**2 + (2 * x[0] + x[1] - 5)**2]\n",
        "\n",
        "    def get_bounds(self):\n",
        "        return ([-10, -10], [10, 10])\n",
        "\n",
        "class MatyasFunction:\n",
        "    def fitness(self, x):\n",
        "        return [0.26 * (x[0]**2 + x[1]**2) - 0.48 * x[0] * x[1]]\n",
        "\n",
        "    def get_bounds(self):\n",
        "        return ([-10, -10], [10, 10])"
      ],
      "metadata": {
        "id": "IXA4afrOYKnm"
      },
      "execution_count": 2,
      "outputs": []
    },
    {
      "cell_type": "markdown",
      "source": [
        " ## Создаем задачи в Pygmo"
      ],
      "metadata": {
        "id": "7fOlYuqJAP4E"
      }
    },
    {
      "cell_type": "code",
      "source": [
        "prob_booth = pg.problem(BoothFunction())\n",
        "prob_matyas = pg.problem(MatyasFunction())"
      ],
      "metadata": {
        "id": "hN6_GvUNYOpe"
      },
      "execution_count": 3,
      "outputs": []
    },
    {
      "cell_type": "markdown",
      "source": [
        "## HashMap по алгоритмам оптимизации"
      ],
      "metadata": {
        "id": "4_jZuvfZAbkW"
      }
    },
    {
      "cell_type": "code",
      "source": [
        "algorithms = {\n",
        "    \"GA\": pg.algorithm(pg.de(gen=100)),  # Дифференциальная эволюция\n",
        "    \"PSO\": pg.algorithm(pg.pso(gen=100)),  # Частицный рой\n",
        "    \"CMA-ES\": pg.algorithm(pg.cmaes())  # Эволюционная стратегия\n",
        "}"
      ],
      "metadata": {
        "id": "XC_uG0LJYPpD"
      },
      "execution_count": 4,
      "outputs": []
    },
    {
      "cell_type": "markdown",
      "source": [
        "## Оптимизация созданных проблем"
      ],
      "metadata": {
        "id": "9_94LZURAiFs"
      }
    },
    {
      "cell_type": "code",
      "source": [
        "def optimize_problem(problem, algs):\n",
        "    results = {}\n",
        "    for name, alg in algs.items():\n",
        "        pop = pg.population(problem, size=20)\n",
        "        pop = alg.evolve(pop)\n",
        "        best_x = pop.champion_x\n",
        "        best_f = pop.champion_f[0]\n",
        "        results[name] = [best_x, best_f]\n",
        "    return results\n",
        "\n",
        "# Оптимизация обеих функций\n",
        "results_booth = optimize_problem(prob_booth, algorithms)\n",
        "results_matyas = optimize_problem(prob_matyas, algorithms)"
      ],
      "metadata": {
        "id": "7rLF24aBYVtd"
      },
      "execution_count": 5,
      "outputs": []
    },
    {
      "cell_type": "markdown",
      "source": [
        "## Генерация таблицы сравнения"
      ],
      "metadata": {
        "id": "8gmG8ZcRAo9M"
      }
    },
    {
      "cell_type": "code",
      "source": [
        "def create_results_table(results, func_name):\n",
        "    rows = []\n",
        "    for alg, (x, f) in results.items():\n",
        "        rows.append({\"Function\": func_name, \"Algorithm\": alg, \"Best Solution\": x, \"Best Value\": f})\n",
        "    return pd.DataFrame(rows)\n",
        "\n",
        "\n",
        "df_booth = create_results_table(results_booth, \"Booth\")\n",
        "df_matyas = create_results_table(results_matyas, \"Matyas\")\n",
        "\n",
        "# Объединяем таблицы\n",
        "final_df = pd.concat([df_booth, df_matyas], ignore_index=True)\n",
        "\n",
        "# Вывод\n",
        "print(final_df)"
      ],
      "metadata": {
        "id": "EGR_Y_eCYbu0",
        "colab": {
          "base_uri": "https://localhost:8080/"
        },
        "outputId": "fb51f006-4d13-4760-d4fc-cf046cab2f7f"
      },
      "execution_count": 6,
      "outputs": [
        {
          "output_type": "stream",
          "name": "stdout",
          "text": [
            "  Function Algorithm                                     Best Solution  \\\n",
            "0    Booth        GA          [1.0000390118314832, 3.0000099859894935]   \n",
            "1    Booth       PSO          [1.0000063633325367, 2.9999806026026166]   \n",
            "2    Booth    CMA-ES         [-1.4804419393933124, 4.2815134943272515]   \n",
            "3   Matyas        GA  [0.00013864014135426574, 0.00030892993103572887]   \n",
            "4   Matyas       PSO    [0.0008320150848048716, 0.0007934639994632356]   \n",
            "5   Matyas    CMA-ES       [0.21907202344973342, -0.26204849403199226]   \n",
            "\n",
            "     Best Value  \n",
            "0  1.122479e-08  \n",
            "1  1.096298e-09  \n",
            "2  1.354459e+01  \n",
            "3  9.252843e-09  \n",
            "4  2.679337e-08  \n",
            "5  5.788771e-02  \n"
          ]
        }
      ]
    }
  ]
}